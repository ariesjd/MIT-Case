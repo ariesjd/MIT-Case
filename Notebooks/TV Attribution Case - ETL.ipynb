{
 "cells": [
  {
   "cell_type": "markdown",
   "id": "50bca771",
   "metadata": {},
   "source": [
    "## ETL Process for TV Attribution Case\n",
    "\n",
    "### Script for table creations in sqlite3\n",
    "\n",
    "#### Analyst: Jose David Perez - 22/06/2021"
   ]
  },
  {
   "cell_type": "markdown",
   "id": "fd664c31",
   "metadata": {},
   "source": [
    "#### Libraries needed for data manipulation"
   ]
  },
  {
   "cell_type": "code",
   "execution_count": 1,
   "id": "c25c321a",
   "metadata": {},
   "outputs": [],
   "source": [
    "import pandas as pd\n",
    "import sqlite3 as sq3\n",
    "import numpy as np\n",
    "from datetime import datetime"
   ]
  },
  {
   "cell_type": "markdown",
   "id": "812b0ccf",
   "metadata": {},
   "source": [
    "#### Accesing the data"
   ]
  },
  {
   "cell_type": "code",
   "execution_count": 2,
   "id": "627092be",
   "metadata": {},
   "outputs": [
    {
     "data": {
      "text/html": [
       "<div>\n",
       "<style scoped>\n",
       "    .dataframe tbody tr th:only-of-type {\n",
       "        vertical-align: middle;\n",
       "    }\n",
       "\n",
       "    .dataframe tbody tr th {\n",
       "        vertical-align: top;\n",
       "    }\n",
       "\n",
       "    .dataframe thead th {\n",
       "        text-align: right;\n",
       "    }\n",
       "</style>\n",
       "<table border=\"1\" class=\"dataframe\">\n",
       "  <thead>\n",
       "    <tr style=\"text-align: right;\">\n",
       "      <th></th>\n",
       "      <th>origin</th>\n",
       "      <th>channel</th>\n",
       "      <th>identifier</th>\n",
       "      <th>date_hour_minute</th>\n",
       "    </tr>\n",
       "  </thead>\n",
       "  <tbody>\n",
       "    <tr>\n",
       "      <th>0</th>\n",
       "      <td>app</td>\n",
       "      <td>Direct App</td>\n",
       "      <td>13dd4f3336931ae1e9ad25cdd8</td>\n",
       "      <td>2020-05-15</td>\n",
       "    </tr>\n",
       "  </tbody>\n",
       "</table>\n",
       "</div>"
      ],
      "text/plain": [
       "  origin     channel                  identifier date_hour_minute\n",
       "0    app  Direct App  13dd4f3336931ae1e9ad25cdd8       2020-05-15"
      ]
     },
     "execution_count": 2,
     "metadata": {},
     "output_type": "execute_result"
    }
   ],
   "source": [
    "# Reading sessions.csv\n",
    "custom_date_parser = lambda x: datetime.strptime(x, \"%d.%m.%y %H:%M\")\n",
    "\n",
    "sessions = pd.read_csv('case_may_2020_sessions_final.csv', usecols=[1,2,3,4], parse_dates=['date_hour_minute'], date_parser=custom_date_parser);\n",
    "sessions.head(1)"
   ]
  },
  {
   "cell_type": "code",
   "execution_count": 3,
   "id": "c6703a4d",
   "metadata": {},
   "outputs": [
    {
     "data": {
      "text/html": [
       "<div>\n",
       "<style scoped>\n",
       "    .dataframe tbody tr th:only-of-type {\n",
       "        vertical-align: middle;\n",
       "    }\n",
       "\n",
       "    .dataframe tbody tr th {\n",
       "        vertical-align: top;\n",
       "    }\n",
       "\n",
       "    .dataframe thead th {\n",
       "        text-align: right;\n",
       "    }\n",
       "</style>\n",
       "<table border=\"1\" class=\"dataframe\">\n",
       "  <thead>\n",
       "    <tr style=\"text-align: right;\">\n",
       "      <th></th>\n",
       "      <th>tv_show_id</th>\n",
       "      <th>tv_show</th>\n",
       "      <th>reach</th>\n",
       "    </tr>\n",
       "  </thead>\n",
       "  <tbody>\n",
       "    <tr>\n",
       "      <th>0</th>\n",
       "      <td>1</td>\n",
       "      <td>First Dates - Ein Tisch für zwei</td>\n",
       "      <td>57000</td>\n",
       "    </tr>\n",
       "    <tr>\n",
       "      <th>1</th>\n",
       "      <td>2</td>\n",
       "      <td>SOKO Kitzbühel</td>\n",
       "      <td>95000</td>\n",
       "    </tr>\n",
       "    <tr>\n",
       "      <th>2</th>\n",
       "      <td>3</td>\n",
       "      <td>Alles was zählt</td>\n",
       "      <td>86000</td>\n",
       "    </tr>\n",
       "    <tr>\n",
       "      <th>3</th>\n",
       "      <td>4</td>\n",
       "      <td>Jack Reacher</td>\n",
       "      <td>162000</td>\n",
       "    </tr>\n",
       "    <tr>\n",
       "      <th>4</th>\n",
       "      <td>5</td>\n",
       "      <td>Der Bulle von Tölz: Tod aus dem All</td>\n",
       "      <td>150000</td>\n",
       "    </tr>\n",
       "  </tbody>\n",
       "</table>\n",
       "</div>"
      ],
      "text/plain": [
       "   tv_show_id                              tv_show   reach\n",
       "0           1     First Dates - Ein Tisch für zwei   57000\n",
       "1           2                       SOKO Kitzbühel   95000\n",
       "2           3                      Alles was zählt   86000\n",
       "3           4                         Jack Reacher  162000\n",
       "4           5  Der Bulle von Tölz: Tod aus dem All  150000"
      ]
     },
     "execution_count": 3,
     "metadata": {},
     "output_type": "execute_result"
    }
   ],
   "source": [
    "# Reading audience sheet\n",
    "audience = pd.read_excel('case_may_2020_TV data.xlsx', sheet_name='Audience', usecols=np.arange(3))\n",
    "audience = audience.reindex(columns=['tv_show_id', 'tv_show', 'reach'])\n",
    "audience.head()"
   ]
  },
  {
   "cell_type": "code",
   "execution_count": 4,
   "id": "22859e01",
   "metadata": {},
   "outputs": [
    {
     "data": {
      "text/html": [
       "<div>\n",
       "<style scoped>\n",
       "    .dataframe tbody tr th:only-of-type {\n",
       "        vertical-align: middle;\n",
       "    }\n",
       "\n",
       "    .dataframe tbody tr th {\n",
       "        vertical-align: top;\n",
       "    }\n",
       "\n",
       "    .dataframe thead th {\n",
       "        text-align: right;\n",
       "    }\n",
       "</style>\n",
       "<table border=\"1\" class=\"dataframe\">\n",
       "  <thead>\n",
       "    <tr style=\"text-align: right;\">\n",
       "      <th></th>\n",
       "      <th>tvp_id</th>\n",
       "      <th>block_start_time</th>\n",
       "      <th>tv_show_id</th>\n",
       "      <th>tv_show</th>\n",
       "      <th>block_size</th>\n",
       "      <th>block_position</th>\n",
       "      <th>spot_id</th>\n",
       "    </tr>\n",
       "  </thead>\n",
       "  <tbody>\n",
       "    <tr>\n",
       "      <th>0</th>\n",
       "      <td>10001127236681063068_1553644648</td>\n",
       "      <td>2020-05-01 18:15:00.000</td>\n",
       "      <td>1</td>\n",
       "      <td>First Dates - Ein Tisch für zwei</td>\n",
       "      <td>420</td>\n",
       "      <td>345</td>\n",
       "      <td>9122</td>\n",
       "    </tr>\n",
       "    <tr>\n",
       "      <th>1</th>\n",
       "      <td>10001127236681063068_1553644679</td>\n",
       "      <td>2020-05-01 19:36:05.000</td>\n",
       "      <td>3</td>\n",
       "      <td>Alles was zählt</td>\n",
       "      <td>60</td>\n",
       "      <td>15</td>\n",
       "      <td>6561</td>\n",
       "    </tr>\n",
       "    <tr>\n",
       "      <th>2</th>\n",
       "      <td>10001127236681063068_1553644709</td>\n",
       "      <td>2020-05-01 20:20:00.000</td>\n",
       "      <td>5</td>\n",
       "      <td>Der Bulle von Tölz: Tod aus dem All</td>\n",
       "      <td>480</td>\n",
       "      <td>60</td>\n",
       "      <td>4242</td>\n",
       "    </tr>\n",
       "    <tr>\n",
       "      <th>3</th>\n",
       "      <td>10001127236681063068_1553644649</td>\n",
       "      <td>2020-05-02 18:14:59.995</td>\n",
       "      <td>6</td>\n",
       "      <td>Newstime</td>\n",
       "      <td>300</td>\n",
       "      <td>270</td>\n",
       "      <td>1234</td>\n",
       "    </tr>\n",
       "    <tr>\n",
       "      <th>4</th>\n",
       "      <td>10001127236681063068_1553644680</td>\n",
       "      <td>2020-05-02 19:36:04.995</td>\n",
       "      <td>7</td>\n",
       "      <td>Comeback oder weg?</td>\n",
       "      <td>420</td>\n",
       "      <td>345</td>\n",
       "      <td>4234</td>\n",
       "    </tr>\n",
       "  </tbody>\n",
       "</table>\n",
       "</div>"
      ],
      "text/plain": [
       "                            tvp_id        block_start_time  tv_show_id  \\\n",
       "0  10001127236681063068_1553644648 2020-05-01 18:15:00.000           1   \n",
       "1  10001127236681063068_1553644679 2020-05-01 19:36:05.000           3   \n",
       "2  10001127236681063068_1553644709 2020-05-01 20:20:00.000           5   \n",
       "3  10001127236681063068_1553644649 2020-05-02 18:14:59.995           6   \n",
       "4  10001127236681063068_1553644680 2020-05-02 19:36:04.995           7   \n",
       "\n",
       "                               tv_show  block_size  block_position  spot_id  \n",
       "0     First Dates - Ein Tisch für zwei         420             345     9122  \n",
       "1                      Alles was zählt          60              15     6561  \n",
       "2  Der Bulle von Tölz: Tod aus dem All         480              60     4242  \n",
       "3                             Newstime         300             270     1234  \n",
       "4                   Comeback oder weg?         420             345     4234  "
      ]
     },
     "execution_count": 4,
     "metadata": {},
     "output_type": "execute_result"
    }
   ],
   "source": [
    "# Reading tv planning sheet\n",
    "tv_planning = pd.read_excel('case_may_2020_TV data.xlsx', sheet_name='TV Planning', usecols=np.arange(7))\n",
    "tv_planning.head()"
   ]
  },
  {
   "cell_type": "code",
   "execution_count": 5,
   "id": "c47759f7",
   "metadata": {},
   "outputs": [
    {
     "data": {
      "text/html": [
       "<div>\n",
       "<style scoped>\n",
       "    .dataframe tbody tr th:only-of-type {\n",
       "        vertical-align: middle;\n",
       "    }\n",
       "\n",
       "    .dataframe tbody tr th {\n",
       "        vertical-align: top;\n",
       "    }\n",
       "\n",
       "    .dataframe thead th {\n",
       "        text-align: right;\n",
       "    }\n",
       "</style>\n",
       "<table border=\"1\" class=\"dataframe\">\n",
       "  <thead>\n",
       "    <tr style=\"text-align: right;\">\n",
       "      <th></th>\n",
       "      <th>spot_id</th>\n",
       "      <th>spot_name</th>\n",
       "      <th>duration</th>\n",
       "    </tr>\n",
       "  </thead>\n",
       "  <tbody>\n",
       "    <tr>\n",
       "      <th>0</th>\n",
       "      <td>4234</td>\n",
       "      <td>springsummer_branding</td>\n",
       "      <td>30 secs</td>\n",
       "    </tr>\n",
       "    <tr>\n",
       "      <th>1</th>\n",
       "      <td>6232</td>\n",
       "      <td>springsummer_outfitfashionA</td>\n",
       "      <td>15 secs</td>\n",
       "    </tr>\n",
       "    <tr>\n",
       "      <th>2</th>\n",
       "      <td>7224</td>\n",
       "      <td>springsummer_saleA</td>\n",
       "      <td>7 secs</td>\n",
       "    </tr>\n",
       "    <tr>\n",
       "      <th>3</th>\n",
       "      <td>8331</td>\n",
       "      <td>springsummer_saleB</td>\n",
       "      <td>7 secs</td>\n",
       "    </tr>\n",
       "    <tr>\n",
       "      <th>4</th>\n",
       "      <td>9122</td>\n",
       "      <td>springsummer_saleC</td>\n",
       "      <td>7 secs</td>\n",
       "    </tr>\n",
       "  </tbody>\n",
       "</table>\n",
       "</div>"
      ],
      "text/plain": [
       "   spot_id                    spot_name duration\n",
       "0     4234        springsummer_branding  30 secs\n",
       "1     6232  springsummer_outfitfashionA  15 secs\n",
       "2     7224           springsummer_saleA   7 secs\n",
       "3     8331           springsummer_saleB   7 secs\n",
       "4     9122           springsummer_saleC   7 secs"
      ]
     },
     "execution_count": 5,
     "metadata": {},
     "output_type": "execute_result"
    }
   ],
   "source": [
    "# Reading tv spots sheet\n",
    "tv_spots = pd.read_excel('case_may_2020_TV data.xlsx', sheet_name='TV spots', usecols=np.arange(3))\n",
    "tv_spots.head()"
   ]
  },
  {
   "cell_type": "code",
   "execution_count": 6,
   "id": "74aa0864",
   "metadata": {},
   "outputs": [
    {
     "data": {
      "text/html": [
       "<div>\n",
       "<style scoped>\n",
       "    .dataframe tbody tr th:only-of-type {\n",
       "        vertical-align: middle;\n",
       "    }\n",
       "\n",
       "    .dataframe tbody tr th {\n",
       "        vertical-align: top;\n",
       "    }\n",
       "\n",
       "    .dataframe thead th {\n",
       "        text-align: right;\n",
       "    }\n",
       "</style>\n",
       "<table border=\"1\" class=\"dataframe\">\n",
       "  <thead>\n",
       "    <tr style=\"text-align: right;\">\n",
       "      <th></th>\n",
       "      <th>origin</th>\n",
       "      <th>channel</th>\n",
       "      <th>identifier</th>\n",
       "      <th>date_hour_minute</th>\n",
       "      <th>tvp_id</th>\n",
       "      <th>tv_probability</th>\n",
       "      <th>spot_weight</th>\n",
       "    </tr>\n",
       "  </thead>\n",
       "  <tbody>\n",
       "    <tr>\n",
       "      <th>0</th>\n",
       "      <td>app</td>\n",
       "      <td>Direct App</td>\n",
       "      <td>68308b2ca17ca3554546bbf7e8</td>\n",
       "      <td>2020-05-15 18:10:00</td>\n",
       "      <td>10001127236681063068_1553644644</td>\n",
       "      <td>0.288847</td>\n",
       "      <td>1.0</td>\n",
       "    </tr>\n",
       "    <tr>\n",
       "      <th>1</th>\n",
       "      <td>app</td>\n",
       "      <td>Direct App</td>\n",
       "      <td>cb51890263cb49761253403353</td>\n",
       "      <td>2020-05-15 18:10:00</td>\n",
       "      <td>10001127236681063068_1553644644</td>\n",
       "      <td>0.288847</td>\n",
       "      <td>1.0</td>\n",
       "    </tr>\n",
       "    <tr>\n",
       "      <th>2</th>\n",
       "      <td>app</td>\n",
       "      <td>Direct App</td>\n",
       "      <td>cca4b65d88d67b1acf79c4dc71</td>\n",
       "      <td>2020-05-15 18:10:00</td>\n",
       "      <td>10001127236681063068_1553644644</td>\n",
       "      <td>0.288847</td>\n",
       "      <td>1.0</td>\n",
       "    </tr>\n",
       "    <tr>\n",
       "      <th>3</th>\n",
       "      <td>web</td>\n",
       "      <td>Direct</td>\n",
       "      <td>234371511550390009</td>\n",
       "      <td>2020-05-15 18:10:00</td>\n",
       "      <td>10001127236681063068_1553644644</td>\n",
       "      <td>0.288847</td>\n",
       "      <td>1.0</td>\n",
       "    </tr>\n",
       "    <tr>\n",
       "      <th>4</th>\n",
       "      <td>web</td>\n",
       "      <td>Direct</td>\n",
       "      <td>5798477480565300009</td>\n",
       "      <td>2020-05-15 18:10:00</td>\n",
       "      <td>10001127236681063068_1553644644</td>\n",
       "      <td>0.288847</td>\n",
       "      <td>1.0</td>\n",
       "    </tr>\n",
       "  </tbody>\n",
       "</table>\n",
       "</div>"
      ],
      "text/plain": [
       "  origin     channel                  identifier    date_hour_minute  \\\n",
       "0    app  Direct App  68308b2ca17ca3554546bbf7e8 2020-05-15 18:10:00   \n",
       "1    app  Direct App  cb51890263cb49761253403353 2020-05-15 18:10:00   \n",
       "2    app  Direct App  cca4b65d88d67b1acf79c4dc71 2020-05-15 18:10:00   \n",
       "3    web      Direct          234371511550390009 2020-05-15 18:10:00   \n",
       "4    web      Direct         5798477480565300009 2020-05-15 18:10:00   \n",
       "\n",
       "                            tvp_id  tv_probability  spot_weight  \n",
       "0  10001127236681063068_1553644644        0.288847          1.0  \n",
       "1  10001127236681063068_1553644644        0.288847          1.0  \n",
       "2  10001127236681063068_1553644644        0.288847          1.0  \n",
       "3  10001127236681063068_1553644644        0.288847          1.0  \n",
       "4  10001127236681063068_1553644644        0.288847          1.0  "
      ]
     },
     "execution_count": 6,
     "metadata": {},
     "output_type": "execute_result"
    }
   ],
   "source": [
    "# Reading tv visits sheet\n",
    "tv_visits = pd.read_excel('case_may_2020_TV data.xlsx', sheet_name='TV - visits match', usecols=np.arange(7))\n",
    "tv_visits.head()"
   ]
  },
  {
   "cell_type": "markdown",
   "id": "b46fc988",
   "metadata": {},
   "source": [
    "#### Getting meta data"
   ]
  },
  {
   "cell_type": "code",
   "execution_count": 7,
   "id": "1650cc23",
   "metadata": {},
   "outputs": [
    {
     "name": "stdout",
     "output_type": "stream",
     "text": [
      "<class 'pandas.core.frame.DataFrame'>\n",
      "RangeIndex: 1058463 entries, 0 to 1058462\n",
      "Data columns (total 4 columns):\n",
      " #   Column            Non-Null Count    Dtype         \n",
      "---  ------            --------------    -----         \n",
      " 0   origin            1058463 non-null  object        \n",
      " 1   channel           1058463 non-null  object        \n",
      " 2   identifier        1058463 non-null  object        \n",
      " 3   date_hour_minute  1058463 non-null  datetime64[ns]\n",
      "dtypes: datetime64[ns](1), object(3)\n",
      "memory usage: 32.3+ MB\n"
     ]
    }
   ],
   "source": [
    "sessions.info()"
   ]
  },
  {
   "cell_type": "code",
   "execution_count": 8,
   "id": "1419eb2c",
   "metadata": {},
   "outputs": [
    {
     "name": "stdout",
     "output_type": "stream",
     "text": [
      "<class 'pandas.core.frame.DataFrame'>\n",
      "RangeIndex: 20 entries, 0 to 19\n",
      "Data columns (total 3 columns):\n",
      " #   Column      Non-Null Count  Dtype \n",
      "---  ------      --------------  ----- \n",
      " 0   tv_show_id  20 non-null     int64 \n",
      " 1   tv_show     20 non-null     object\n",
      " 2   reach       20 non-null     int64 \n",
      "dtypes: int64(2), object(1)\n",
      "memory usage: 608.0+ bytes\n"
     ]
    }
   ],
   "source": [
    "audience.info()"
   ]
  },
  {
   "cell_type": "code",
   "execution_count": 9,
   "id": "bd1c7d08",
   "metadata": {},
   "outputs": [
    {
     "name": "stdout",
     "output_type": "stream",
     "text": [
      "<class 'pandas.core.frame.DataFrame'>\n",
      "RangeIndex: 95 entries, 0 to 94\n",
      "Data columns (total 7 columns):\n",
      " #   Column            Non-Null Count  Dtype         \n",
      "---  ------            --------------  -----         \n",
      " 0   tvp_id            95 non-null     object        \n",
      " 1   block_start_time  95 non-null     datetime64[ns]\n",
      " 2   tv_show_id        95 non-null     int64         \n",
      " 3   tv_show           95 non-null     object        \n",
      " 4   block_size        95 non-null     int64         \n",
      " 5   block_position    95 non-null     int64         \n",
      " 6   spot_id           95 non-null     int64         \n",
      "dtypes: datetime64[ns](1), int64(4), object(2)\n",
      "memory usage: 5.3+ KB\n"
     ]
    }
   ],
   "source": [
    "tv_planning.info()"
   ]
  },
  {
   "cell_type": "code",
   "execution_count": 10,
   "id": "d9ac212e",
   "metadata": {},
   "outputs": [
    {
     "name": "stdout",
     "output_type": "stream",
     "text": [
      "<class 'pandas.core.frame.DataFrame'>\n",
      "RangeIndex: 9 entries, 0 to 8\n",
      "Data columns (total 3 columns):\n",
      " #   Column     Non-Null Count  Dtype \n",
      "---  ------     --------------  ----- \n",
      " 0   spot_id    9 non-null      int64 \n",
      " 1   spot_name  9 non-null      object\n",
      " 2   duration   9 non-null      object\n",
      "dtypes: int64(1), object(2)\n",
      "memory usage: 344.0+ bytes\n"
     ]
    }
   ],
   "source": [
    "tv_spots.info()"
   ]
  },
  {
   "cell_type": "code",
   "execution_count": 11,
   "id": "b6c9e464",
   "metadata": {},
   "outputs": [
    {
     "name": "stdout",
     "output_type": "stream",
     "text": [
      "<class 'pandas.core.frame.DataFrame'>\n",
      "RangeIndex: 18662 entries, 0 to 18661\n",
      "Data columns (total 7 columns):\n",
      " #   Column            Non-Null Count  Dtype         \n",
      "---  ------            --------------  -----         \n",
      " 0   origin            18662 non-null  object        \n",
      " 1   channel           18662 non-null  object        \n",
      " 2   identifier        18662 non-null  object        \n",
      " 3   date_hour_minute  18662 non-null  datetime64[ns]\n",
      " 4   tvp_id            18662 non-null  object        \n",
      " 5   tv_probability    18662 non-null  float64       \n",
      " 6   spot_weight       18662 non-null  float64       \n",
      "dtypes: datetime64[ns](1), float64(2), object(4)\n",
      "memory usage: 1020.7+ KB\n"
     ]
    }
   ],
   "source": [
    "tv_visits.info()"
   ]
  },
  {
   "cell_type": "markdown",
   "id": "d485c051",
   "metadata": {},
   "source": [
    "#### Cleaning and transforming features"
   ]
  },
  {
   "cell_type": "code",
   "execution_count": 12,
   "id": "4c345017",
   "metadata": {},
   "outputs": [
    {
     "data": {
      "text/html": [
       "<div>\n",
       "<style scoped>\n",
       "    .dataframe tbody tr th:only-of-type {\n",
       "        vertical-align: middle;\n",
       "    }\n",
       "\n",
       "    .dataframe tbody tr th {\n",
       "        vertical-align: top;\n",
       "    }\n",
       "\n",
       "    .dataframe thead th {\n",
       "        text-align: right;\n",
       "    }\n",
       "</style>\n",
       "<table border=\"1\" class=\"dataframe\">\n",
       "  <thead>\n",
       "    <tr style=\"text-align: right;\">\n",
       "      <th></th>\n",
       "      <th>origin</th>\n",
       "      <th>channel</th>\n",
       "      <th>identifier</th>\n",
       "      <th>date_hour_minute</th>\n",
       "    </tr>\n",
       "  </thead>\n",
       "  <tbody>\n",
       "    <tr>\n",
       "      <th>0</th>\n",
       "      <td>app</td>\n",
       "      <td>Direct App</td>\n",
       "      <td>13dd4f3336931ae1e9ad25cdd8</td>\n",
       "      <td>2020-05-15 00:00:00</td>\n",
       "    </tr>\n",
       "  </tbody>\n",
       "</table>\n",
       "</div>"
      ],
      "text/plain": [
       "  origin     channel                  identifier     date_hour_minute\n",
       "0    app  Direct App  13dd4f3336931ae1e9ad25cdd8  2020-05-15 00:00:00"
      ]
     },
     "execution_count": 12,
     "metadata": {},
     "output_type": "execute_result"
    }
   ],
   "source": [
    "# Converting date_hour_minute to string for sqlite3\n",
    "sessions['date_hour_minute'] = sessions['date_hour_minute'].astype(str)\n",
    "sessions.head(1)"
   ]
  },
  {
   "cell_type": "code",
   "execution_count": 13,
   "id": "b0c4a6d7",
   "metadata": {
    "scrolled": true
   },
   "outputs": [
    {
     "data": {
      "text/html": [
       "<div>\n",
       "<style scoped>\n",
       "    .dataframe tbody tr th:only-of-type {\n",
       "        vertical-align: middle;\n",
       "    }\n",
       "\n",
       "    .dataframe tbody tr th {\n",
       "        vertical-align: top;\n",
       "    }\n",
       "\n",
       "    .dataframe thead th {\n",
       "        text-align: right;\n",
       "    }\n",
       "</style>\n",
       "<table border=\"1\" class=\"dataframe\">\n",
       "  <thead>\n",
       "    <tr style=\"text-align: right;\">\n",
       "      <th></th>\n",
       "      <th>tvp_id</th>\n",
       "      <th>block_start_time</th>\n",
       "      <th>tv_show_id</th>\n",
       "      <th>block_size</th>\n",
       "      <th>block_position</th>\n",
       "      <th>spot_id</th>\n",
       "    </tr>\n",
       "  </thead>\n",
       "  <tbody>\n",
       "    <tr>\n",
       "      <th>0</th>\n",
       "      <td>10001127236681063068_1553644648</td>\n",
       "      <td>2020-05-01 18:15:00.000</td>\n",
       "      <td>1</td>\n",
       "      <td>420</td>\n",
       "      <td>345</td>\n",
       "      <td>9122</td>\n",
       "    </tr>\n",
       "    <tr>\n",
       "      <th>1</th>\n",
       "      <td>10001127236681063068_1553644679</td>\n",
       "      <td>2020-05-01 19:36:05.000</td>\n",
       "      <td>3</td>\n",
       "      <td>60</td>\n",
       "      <td>15</td>\n",
       "      <td>6561</td>\n",
       "    </tr>\n",
       "    <tr>\n",
       "      <th>2</th>\n",
       "      <td>10001127236681063068_1553644709</td>\n",
       "      <td>2020-05-01 20:20:00.000</td>\n",
       "      <td>5</td>\n",
       "      <td>480</td>\n",
       "      <td>60</td>\n",
       "      <td>4242</td>\n",
       "    </tr>\n",
       "    <tr>\n",
       "      <th>3</th>\n",
       "      <td>10001127236681063068_1553644649</td>\n",
       "      <td>2020-05-02 18:14:59.995</td>\n",
       "      <td>6</td>\n",
       "      <td>300</td>\n",
       "      <td>270</td>\n",
       "      <td>1234</td>\n",
       "    </tr>\n",
       "    <tr>\n",
       "      <th>4</th>\n",
       "      <td>10001127236681063068_1553644680</td>\n",
       "      <td>2020-05-02 19:36:04.995</td>\n",
       "      <td>7</td>\n",
       "      <td>420</td>\n",
       "      <td>345</td>\n",
       "      <td>4234</td>\n",
       "    </tr>\n",
       "  </tbody>\n",
       "</table>\n",
       "</div>"
      ],
      "text/plain": [
       "                            tvp_id        block_start_time  tv_show_id  \\\n",
       "0  10001127236681063068_1553644648 2020-05-01 18:15:00.000           1   \n",
       "1  10001127236681063068_1553644679 2020-05-01 19:36:05.000           3   \n",
       "2  10001127236681063068_1553644709 2020-05-01 20:20:00.000           5   \n",
       "3  10001127236681063068_1553644649 2020-05-02 18:14:59.995           6   \n",
       "4  10001127236681063068_1553644680 2020-05-02 19:36:04.995           7   \n",
       "\n",
       "   block_size  block_position  spot_id  \n",
       "0         420             345     9122  \n",
       "1          60              15     6561  \n",
       "2         480              60     4242  \n",
       "3         300             270     1234  \n",
       "4         420             345     4234  "
      ]
     },
     "execution_count": 13,
     "metadata": {},
     "output_type": "execute_result"
    }
   ],
   "source": [
    "# Dropping tv_show from tv_planning\n",
    "tv_planning.drop(columns=['tv_show'], inplace=True)\n",
    "tv_planning.head()"
   ]
  },
  {
   "cell_type": "code",
   "execution_count": 14,
   "id": "b6127768",
   "metadata": {},
   "outputs": [
    {
     "name": "stdout",
     "output_type": "stream",
     "text": [
      "<class 'pandas.core.frame.DataFrame'>\n",
      "RangeIndex: 95 entries, 0 to 94\n",
      "Data columns (total 6 columns):\n",
      " #   Column            Non-Null Count  Dtype \n",
      "---  ------            --------------  ----- \n",
      " 0   tvp_id            95 non-null     object\n",
      " 1   block_start_time  95 non-null     object\n",
      " 2   tv_show_id        95 non-null     int64 \n",
      " 3   block_size        95 non-null     int64 \n",
      " 4   block_position    95 non-null     int64 \n",
      " 5   spot_id           95 non-null     int64 \n",
      "dtypes: int64(4), object(2)\n",
      "memory usage: 4.6+ KB\n"
     ]
    }
   ],
   "source": [
    "# Converting block_start_time to string for sqlite3\n",
    "tv_planning['block_start_time'] = tv_planning['block_start_time'].astype('str')\n",
    "tv_planning.info()"
   ]
  },
  {
   "cell_type": "code",
   "execution_count": 15,
   "id": "fd0fad39",
   "metadata": {},
   "outputs": [
    {
     "data": {
      "text/plain": [
       "0    30\n",
       "1    15\n",
       "2     7\n",
       "3     7\n",
       "4     7\n",
       "5    30\n",
       "6     7\n",
       "7     7\n",
       "8    30\n",
       "Name: duration_secs, dtype: int64"
      ]
     },
     "execution_count": 15,
     "metadata": {},
     "output_type": "execute_result"
    }
   ],
   "source": [
    "# Renaming duration on tv_spots and removing 'secs'\n",
    "tv_spots.rename(columns={'duration': 'duration_secs'}, inplace=True)\n",
    "\n",
    "tv_spots['duration_secs'] = pd.to_numeric(tv_spots['duration_secs'].astype('str').str[:-5])\n",
    "tv_spots['duration_secs']"
   ]
  },
  {
   "cell_type": "markdown",
   "id": "3cc76938",
   "metadata": {},
   "source": [
    "#### Database and table creation"
   ]
  },
  {
   "cell_type": "code",
   "execution_count": 16,
   "id": "224569ab",
   "metadata": {},
   "outputs": [],
   "source": [
    "# Creating database on sqlite3\n",
    "conn = sq3.connect('tv_attribution_case')\n",
    "\n",
    "c = conn.cursor()"
   ]
  },
  {
   "cell_type": "code",
   "execution_count": 17,
   "id": "8823aaf1",
   "metadata": {},
   "outputs": [
    {
     "data": {
      "text/plain": [
       "<sqlite3.Cursor at 0x18568008d50>"
      ]
     },
     "execution_count": 17,
     "metadata": {},
     "output_type": "execute_result"
    }
   ],
   "source": [
    "# Executing DDL por table creation\n",
    "c.execute('''CREATE TABLE sessions\n",
    "            ([origin] text, [channel] text, [identifier] text, [date_hour_minute] text)''')\n",
    "\n",
    "c.execute('''CREATE TABLE audience\n",
    "            ([tv_show_id] INTEGER PRIMARY KEY, [tv_show] text, [reach] INTEGER)''')\n",
    "\n",
    "c.execute('''CREATE TABLE tv_planning\n",
    "            ([tvp_id] text PRIMARY KEY, [block_start_time] text, [tv_show_id] INTEGER, [block_size] INTEGER, \n",
    "            [block_position] INTEGER, [spot_id] INTEGER)''')\n",
    "\n",
    "c.execute('''CREATE TABLE tv_spots\n",
    "            ([spot_id] INTEGER PRIMARY KEY, [spot_name] text, [duration_secs] INTEGER)''')\n",
    "\n",
    "c.execute('''CREATE TABLE tv_visits\n",
    "            ([origin] text, [channel] text, [identifier] text, [date_hour_minute] text, [tvp_id] text, \n",
    "            [tv_probability] REAL, [spot_weight] REAL)''')"
   ]
  },
  {
   "cell_type": "code",
   "execution_count": 18,
   "id": "e3e1e3eb",
   "metadata": {},
   "outputs": [],
   "source": [
    "# Inserting rows from pandas dataframe to sqlite\n",
    "sessions.to_sql('sessions', conn, if_exists='append', index=False)\n",
    "audience.to_sql('audience', conn, if_exists='append', index=False)\n",
    "tv_planning.to_sql('tv_planning', conn, if_exists='append', index=False)\n",
    "tv_spots.to_sql('tv_spots', conn, if_exists='append', index=False)\n",
    "tv_visits.to_sql('tv_visits', conn, if_exists='append', index=False)"
   ]
  },
  {
   "cell_type": "code",
   "execution_count": 19,
   "id": "6044e85d",
   "metadata": {},
   "outputs": [],
   "source": [
    "# Commit changes and close database\n",
    "conn.commit()\n",
    "conn.close()"
   ]
  },
  {
   "cell_type": "code",
   "execution_count": null,
   "id": "79150371",
   "metadata": {},
   "outputs": [],
   "source": []
  }
 ],
 "metadata": {
  "kernelspec": {
   "display_name": "Python 3",
   "language": "python",
   "name": "python3"
  },
  "language_info": {
   "codemirror_mode": {
    "name": "ipython",
    "version": 3
   },
   "file_extension": ".py",
   "mimetype": "text/x-python",
   "name": "python",
   "nbconvert_exporter": "python",
   "pygments_lexer": "ipython3",
   "version": "3.8.10"
  }
 },
 "nbformat": 4,
 "nbformat_minor": 5
}
